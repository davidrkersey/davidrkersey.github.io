{
 "cells": [
  {
   "cell_type": "markdown",
   "metadata": {},
   "source": [
    "# Portfolio Optimization\n",
    "\n",
    "Portfolio Optimization is a powerful tool for selecting a range of assets of varying risk/reward. While portfolio optimization can be used to address a broad set of asset selection tasks, the classic understanding deals in stocks, typically where you optimize your stock portfolio to maximize expected return given a certain tolerance to risk. However your objective function can be changed so that you meet a minimum return while minimizing risk. Simulating this process for various risk tolerance thresholds is a useful process for visualizing the change in expected returns as your ability to tolerate risk increases. \n",
    "\n",
    "In this notebook, I used Gurobi Solver to demonstrate portfolio optimization with three theoretical stocks. I set the expected returns, standard deviation of returns, correlation of the stocks, and the covariance matrix associated with the stocks, as well. Instead of using an actual dollar amount as a starting investment amount, the model will distribute a percentage of the total investment to each stock.  "
   ]
  },
  {
   "cell_type": "code",
   "execution_count": 26,
   "metadata": {},
   "outputs": [],
   "source": [
    "import math\n",
    "import numpy as np\n",
    "from gurobipy import *\n",
    "m = Model('Portfolio_Optimization')"
   ]
  },
  {
   "cell_type": "code",
   "execution_count": 27,
   "metadata": {},
   "outputs": [],
   "source": [
    "MeanReturns = [0.14, 0.11, 0.1]\n",
    "SdReturns = [0.2,0.15,0.08]"
   ]
  },
  {
   "cell_type": "code",
   "execution_count": 28,
   "metadata": {},
   "outputs": [],
   "source": [
    "Corrs = [[1,0.6,0.4],[0.6,1,0.7],[0.4,0.7,1]]"
   ]
  },
  {
   "cell_type": "code",
   "execution_count": 29,
   "metadata": {},
   "outputs": [],
   "source": [
    "covs = [[0.04, 0.018, 0.0064],[0.018,0.0225,0.0084],[0.0064,0.0084,0.0064]]\n"
   ]
  },
  {
   "cell_type": "markdown",
   "metadata": {},
   "source": [
    "I created three variables to serve as the percentage of the initial investment that should be allocated to each stock. "
   ]
  },
  {
   "cell_type": "code",
   "execution_count": 30,
   "metadata": {},
   "outputs": [
    {
     "name": "stdout",
     "output_type": "stream",
     "text": [
      "[]\n"
     ]
    }
   ],
   "source": [
    "m.remove(m.getVars())\n",
    "Inv_Weights = []\n",
    "for i in range(len(MeanReturns)):\n",
    "    Inv_Weights.append(m.addVar(vtype=GRB.CONTINUOUS, name = \"Stock\" + str(i), lb= 0.0))\n",
    "    \n",
    "print(m.getVars())\n",
    "m.update()"
   ]
  },
  {
   "cell_type": "code",
   "execution_count": 31,
   "metadata": {},
   "outputs": [],
   "source": [
    "\n",
    "\n",
    "m.setObjective(quicksum(Inv_Weights[i] * covs[i][j] * Inv_Weights[j] for i in range(len(Inv_Weights)) for j in range(len(Inv_Weights))), GRB.MINIMIZE)\n",
    "\n",
    "m.update()"
   ]
  },
  {
   "cell_type": "markdown",
   "metadata": {},
   "source": [
    "Below I am adding constraints to the optimization model. The first constraint mandates that the sum of the investment weights is equal to 1, i.e. 100% of your money is invested. The second constraint requires a minimum return of 0.12, ie a return of at least 12% on your investments. "
   ]
  },
  {
   "cell_type": "code",
   "execution_count": 32,
   "metadata": {},
   "outputs": [
    {
     "name": "stdout",
     "output_type": "stream",
     "text": [
      "[]\n"
     ]
    }
   ],
   "source": [
    "m.remove(m.getConstrs())\n",
    "\n",
    "Req_return = 0.12\n",
    "\n",
    "m.addConstr(quicksum(Inv_Weights), GRB.EQUAL, 1)\n",
    "m.addConstr(quicksum(Inv_Weights[i] * MeanReturns[i] for i in range(len(MeanReturns))), GRB.GREATER_EQUAL,Req_return)\n",
    "\n",
    "print(m.getConstrs())\n",
    "m.update()"
   ]
  },
  {
   "cell_type": "code",
   "execution_count": 33,
   "metadata": {},
   "outputs": [
    {
     "name": "stdout",
     "output_type": "stream",
     "text": [
      "Optimize a model with 2 rows, 3 columns and 6 nonzeros\n",
      "Model has 6 quadratic objective terms\n",
      "Coefficient statistics:\n",
      "  Matrix range     [1e-01, 1e+00]\n",
      "  Objective range  [0e+00, 0e+00]\n",
      "  QObjective range [1e-02, 8e-02]\n",
      "  Bounds range     [0e+00, 0e+00]\n",
      "  RHS range        [1e-01, 1e+00]\n",
      "Presolve time: 0.00s\n",
      "Presolved: 2 rows, 3 columns, 6 nonzeros\n",
      "Presolved model has 6 quadratic objective terms\n",
      "Ordering time: 0.00s\n",
      "\n",
      "Barrier statistics:\n",
      " Free vars  : 2\n",
      " AA' NZ     : 6.000e+00\n",
      " Factor NZ  : 1.000e+01\n",
      " Factor Ops : 3.000e+01 (less than 1 second per iteration)\n",
      " Threads    : 1\n",
      "\n",
      "                  Objective                Residual\n",
      "Iter       Primal          Dual         Primal    Dual     Compl     Time\n",
      "   0   1.39490847e+05 -1.39490847e+05  2.50e+03 6.11e-06  1.00e+06     0s\n",
      "   1   4.91553548e+03 -5.16907979e+03  1.49e+02 3.64e-07  6.17e+04     0s\n",
      "   2   3.34728926e-02 -3.07903637e+02  1.50e-01 3.67e-10  1.39e+02     0s\n",
      "   3   2.42930548e-02 -5.49077879e+01  1.50e-07 3.64e-16  1.37e+01     0s\n",
      "   4   2.42829703e-02 -4.84595241e-02  4.87e-11 1.39e-17  1.82e-02     0s\n",
      "   5   1.77774188e-02  1.23614009e-02  8.31e-13 2.78e-17  1.35e-03     0s\n",
      "   6   1.49836017e-02  1.46915674e-02  1.67e-16 6.94e-18  7.30e-05     0s\n",
      "   7   1.48024175e-02  1.47998880e-02  5.55e-16 6.75e-17  6.32e-07     0s\n",
      "   8   1.48000024e-02  1.47999999e-02  2.44e-15 6.94e-18  6.32e-10     0s\n",
      "\n",
      "Barrier solved model in 8 iterations and 0.02 seconds\n",
      "Optimal objective 1.48000024e-02\n",
      "\n"
     ]
    }
   ],
   "source": [
    "m.optimize()"
   ]
  },
  {
   "cell_type": "code",
   "execution_count": 34,
   "metadata": {},
   "outputs": [
    {
     "name": "stdout",
     "output_type": "stream",
     "text": [
      "0.014800002415706223\n"
     ]
    }
   ],
   "source": [
    "print(m.ObjVal)"
   ]
  },
  {
   "cell_type": "code",
   "execution_count": null,
   "metadata": {},
   "outputs": [],
   "source": []
  }
 ],
 "metadata": {
  "kernelspec": {
   "display_name": "Python 3",
   "language": "python",
   "name": "python3"
  },
  "language_info": {
   "codemirror_mode": {
    "name": "ipython",
    "version": 3
   },
   "file_extension": ".py",
   "mimetype": "text/x-python",
   "name": "python",
   "nbconvert_exporter": "python",
   "pygments_lexer": "ipython3",
   "version": "3.7.3"
  }
 },
 "nbformat": 4,
 "nbformat_minor": 2
}
